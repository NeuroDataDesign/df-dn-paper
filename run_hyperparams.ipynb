{
 "cells": [
  {
   "cell_type": "code",
   "execution_count": null,
   "id": "9e58a550",
   "metadata": {},
   "outputs": [],
   "source": [
    "not_pyplot = True\n",
    "import main_functions\n",
    "from importlib import reload  \n",
    "main_functions = reload(main_functions)\n",
    "from main_functions import * \n",
    "#E:\\CoDyS-Python-rep-\\lorenz_2d\\cleanlorenz_2d_n\\240422\n",
    "#E:\\github\\results_mar_28\\lorenz\\clean\n",
    "\n",
    "from sklearn.metrics import r2_score"
   ]
  }
 ],
 "metadata": {
  "kernelspec": {
   "display_name": "Python 3 (ipykernel)",
   "language": "python",
   "name": "python3"
  },
  "language_info": {
   "codemirror_mode": {
    "name": "ipython",
    "version": 3
   },
   "file_extension": ".py",
   "mimetype": "text/x-python",
   "name": "python",
   "nbconvert_exporter": "python",
   "pygments_lexer": "ipython3",
   "version": "3.7.13"
  }
 },
 "nbformat": 4,
 "nbformat_minor": 5
}
